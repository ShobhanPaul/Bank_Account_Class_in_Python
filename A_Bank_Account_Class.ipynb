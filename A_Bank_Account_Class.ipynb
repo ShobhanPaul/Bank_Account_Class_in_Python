{
 "cells": [
  {
   "cell_type": "code",
   "execution_count": 2,
   "id": "bd51e6f8-598b-4f70-baad-8b3c1b34e336",
   "metadata": {},
   "outputs": [
    {
     "name": "stdout",
     "output_type": "stream",
     "text": [
      "You have deposited 50 and current balance is 1050\n",
      "You have withdrawn 0. New balance: 1050\n",
      "You have deposited 100 and current balance is 1150\n",
      "You have withdrawn 150. New balance: 1000\n"
     ]
    }
   ],
   "source": [
    "# A Bank Account Class\n",
    "global_balance = 1000 # This will store the balance globally\n",
    "class BankAccount:\n",
    "    def __init__(self):\n",
    "        global global_balance # Access the global balance \n",
    "        self.balance = global_balance # Assign global balance to instance balance (object balance)\n",
    "    def deposit(self,deposit):\n",
    "        global global_balance # Access the global balance\n",
    "        if deposit>0:\n",
    "            global_balance += deposit # Update the global balance\n",
    "            self.balance = global_balance # Update the instance balance too\n",
    "            print(f\"You have deposited {deposit} and current balance is {self.balance}\")\n",
    "        else:\n",
    "            print(\"Amount Must Be Positive\")\n",
    "    def withdraw(self,withdraw):\n",
    "        global global_balance # Access the global balance\n",
    "        if withdraw >= 0:\n",
    "            if global_balance>=withdraw:\n",
    "                global_balance -= withdraw # Update the global balance\n",
    "                self.balance = global_balance # Update the instance balance\n",
    "                print(f\"You have withdrawn {withdraw}. New balance: {self.balance}\")\n",
    "            else:\n",
    "                print(\"Insufficient balance\")\n",
    "        else:\n",
    "            print(\"Withdrawn amount must be positive\")\n",
    "account1 = BankAccount() # create an account (instance)\n",
    "account1.deposit(50)\n",
    "account1.withdraw(0)\n",
    "account1.deposit(100)\n",
    "account1.withdraw(150)"
   ]
  },
  {
   "cell_type": "code",
   "execution_count": null,
   "id": "0b2d6c65-3772-47cd-b709-eb77a03829fe",
   "metadata": {},
   "outputs": [],
   "source": []
  }
 ],
 "metadata": {
  "kernelspec": {
   "display_name": "Python 3 (ipykernel)",
   "language": "python",
   "name": "python3"
  },
  "language_info": {
   "codemirror_mode": {
    "name": "ipython",
    "version": 3
   },
   "file_extension": ".py",
   "mimetype": "text/x-python",
   "name": "python",
   "nbconvert_exporter": "python",
   "pygments_lexer": "ipython3",
   "version": "3.12.4"
  }
 },
 "nbformat": 4,
 "nbformat_minor": 5
}
